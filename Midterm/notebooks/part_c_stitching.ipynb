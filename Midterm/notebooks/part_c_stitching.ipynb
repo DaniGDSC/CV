{
 "cells": [
  {
   "cell_type": "markdown",
   "id": "bbb7af64",
   "metadata": {},
   "source": [
    "Step 1: Load and Preprocess Images"
   ]
  },
  {
   "cell_type": "code",
   "execution_count": null,
   "id": "f90b5810",
   "metadata": {},
   "outputs": [
    {
     "ename": "SyntaxError",
     "evalue": "(unicode error) 'unicodeescape' codec can't decode bytes in position 2-3: truncated \\UXXXXXXXX escape (819010192.py, line 410)",
     "output_type": "error",
     "traceback": [
      "\u001b[1;36m  Cell \u001b[1;32mIn[26], line 410\u001b[1;36m\u001b[0m\n\u001b[1;33m    image_folder = \"D:\\University\\Computer_vision\\CV\\Computer_vision_assigment\\Midterm\\data\\input\\part_c\"\u001b[0m\n\u001b[1;37m                                                                                                         ^\u001b[0m\n\u001b[1;31mSyntaxError\u001b[0m\u001b[1;31m:\u001b[0m (unicode error) 'unicodeescape' codec can't decode bytes in position 2-3: truncated \\UXXXXXXXX escape\n"
     ]
    }
   ],
   "source": [
    "import cv2\n",
    "import numpy as np\n",
    "import matplotlib.pyplot as plt\n",
    "import open3d\n",
    "\n",
    "# Load images\n",
    "#load folder with images named 1.jpg, 2.jpg, 3.jpg, 4.jpg\n",
    "\n",
    "images = [cv2.imread(f'{i}.jpg') for i in range(1, 5)]\n",
    "\n",
    "# Convert to grayscale\n",
    "gray_images = [cv2.cvtColor(img, cv2.COLOR_BGR2GRAY) for img in images]\n",
    "\n",
    "# Optional: Resize images (e.g., to 50% of original size)\n",
    "scale = 0.75\n",
    "resized_images = [cv2.resize(img, None, fx=scale, fy=scale) for img in images]\n",
    "resized_gray = [cv2.resize(gray, None, fx=scale, fy=scale) for gray in gray_images]"
   ]
  }
 ],
 "metadata": {
  "kernelspec": {
   "display_name": "cv",
   "language": "python",
   "name": "python3"
  },
  "language_info": {
   "codemirror_mode": {
    "name": "ipython",
    "version": 3
   },
   "file_extension": ".py",
   "mimetype": "text/x-python",
   "name": "python",
   "nbconvert_exporter": "python",
   "pygments_lexer": "ipython3",
   "version": "3.10.16"
  }
 },
 "nbformat": 4,
 "nbformat_minor": 5
}
