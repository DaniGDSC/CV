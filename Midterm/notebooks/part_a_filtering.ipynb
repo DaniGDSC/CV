{
 "cells": [
  {
   "cell_type": "code",
   "execution_count": null,
   "id": "ae9f2bb0",
   "metadata": {},
   "outputs": [],
   "source": []
  }
 ],
 "metadata": {
  "kernelspec": {
   "display_name": "AI",
   "language": "python",
   "name": "python3"
  },
  "language_info": {
   "name": "python",
   "version": "3.11.11"
  }
 },
 "nbformat": 4,
 "nbformat_minor": 5
}
